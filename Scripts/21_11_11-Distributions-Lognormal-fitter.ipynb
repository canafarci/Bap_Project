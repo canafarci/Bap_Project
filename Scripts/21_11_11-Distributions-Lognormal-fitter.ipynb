{
 "cells": [
  {
   "cell_type": "code",
   "execution_count": 3,
   "metadata": {},
   "outputs": [],
   "source": [
    "from fitter import Fitter, get_common_distributions, get_distributions\n",
    "import pandas as pd\n",
    "import seaborn as sns\n",
    "import matplotlib.pyplot as plt\n",
    "import numpy as np\n",
    "import scipy\n",
    "from scipy import stats"
   ]
  },
  {
   "cell_type": "code",
   "execution_count": 41,
   "metadata": {},
   "outputs": [
    {
     "data": {
      "text/plain": [
       "2      0.27\n",
       "3      0.28\n",
       "4      0.28\n",
       "5      0.30\n",
       "6      0.31\n",
       "       ... \n",
       "166    1.46\n",
       "167    1.46\n",
       "168    1.46\n",
       "169    1.48\n",
       "170    1.49\n",
       "Name: wall_u, Length: 161, dtype: float64"
      ]
     },
     "execution_count": 41,
     "metadata": {},
     "output_type": "execute_result"
    }
   ],
   "source": [
    "dataset = pd.read_csv(\"E:\\\\ARCHIVE\\\\BAP\\\\__Project\\\\csvexport\\\\dists3.csv\")\n",
    "\n",
    "dataset = dataset.apply (pd.to_numeric, errors='coerce')\n",
    "\n",
    "dataset = dataset.dropna()\n",
    "dataset.to_numpy()\n",
    "\n",
    "dataset= dataset[dataset[\"wall_u\"] > 0]\n",
    "\n",
    "dataset = pd.DataFrame(np.sort(dataset.values, axis=0), index=dataset.index, columns=dataset.columns)\n",
    "dataset = dataset['wall_u']\n",
    "\n",
    "dataset = dataset[(np.abs(stats.zscore(dataset)) < 1.20)]\n",
    "dataset\n"
   ]
  },
  {
   "cell_type": "code",
   "execution_count": 42,
   "metadata": {},
   "outputs": [],
   "source": [
    "shape, loc, scale = stats.lognorm.fit(dataset, floc=0)"
   ]
  },
  {
   "cell_type": "code",
   "execution_count": 43,
   "metadata": {},
   "outputs": [
    {
     "data": {
      "text/plain": [
       "(0.5267000209902045, 0.0, 0.6632991847511377)"
      ]
     },
     "execution_count": 43,
     "metadata": {},
     "output_type": "execute_result"
    }
   ],
   "source": [
    "shape, loc, scale"
   ]
  },
  {
   "cell_type": "code",
   "execution_count": 44,
   "metadata": {},
   "outputs": [
    {
     "data": {
      "text/plain": [
       "(-0.41052913153153026, 0.5267000209902045)"
      ]
     },
     "execution_count": 44,
     "metadata": {},
     "output_type": "execute_result"
    }
   ],
   "source": [
    "np.log(scale), shape  # mu, sigma"
   ]
  }
 ],
 "metadata": {
  "interpreter": {
   "hash": "4a74ad5e0f1cd200cd26c2033a672363faf526b49ca194c184ea87f6d251d7c9"
  },
  "kernelspec": {
   "display_name": "Python 3.7.4 64-bit",
   "language": "python",
   "name": "python3"
  },
  "language_info": {
   "codemirror_mode": {
    "name": "ipython",
    "version": 3
   },
   "file_extension": ".py",
   "mimetype": "text/x-python",
   "name": "python",
   "nbconvert_exporter": "python",
   "pygments_lexer": "ipython3",
   "version": "3.7.4"
  },
  "orig_nbformat": 4
 },
 "nbformat": 4,
 "nbformat_minor": 2
}

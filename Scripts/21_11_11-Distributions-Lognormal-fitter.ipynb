{
 "cells": [
  {
   "cell_type": "code",
   "execution_count": 14,
   "metadata": {},
   "outputs": [],
   "source": [
    "from fitter import Fitter, get_common_distributions, get_distributions\n",
    "import pandas as pd\n",
    "import seaborn as sns\n",
    "import matplotlib.pyplot as plt\n",
    "import numpy as np\n",
    "import scipy\n",
    "from scipy import stats"
   ]
  },
  {
   "cell_type": "code",
   "execution_count": 15,
   "metadata": {},
   "outputs": [
    {
     "data": {
      "text/plain": [
       "14     0.127162\n",
       "15     0.138574\n",
       "16     0.142565\n",
       "17     0.143108\n",
       "18     0.145120\n",
       "         ...   \n",
       "179    0.366713\n",
       "180    0.367221\n",
       "181    0.370496\n",
       "182    0.374609\n",
       "183    0.377497\n",
       "Name: wwr, Length: 165, dtype: float64"
      ]
     },
     "execution_count": 15,
     "metadata": {},
     "output_type": "execute_result"
    }
   ],
   "source": [
    "dataset = pd.read_csv(\"E:\\\\ARCHIVE\\\\BAP\\\\__Project\\\\csvexport\\\\dists3.csv\")\n",
    "\n",
    "dataset = dataset.apply (pd.to_numeric, errors='coerce')\n",
    "\n",
    "dataset = dataset.dropna()\n",
    "dataset.to_numpy()\n",
    "\n",
    "dataset= dataset[dataset[\"wwr\"] > 0]\n",
    "\n",
    "dataset = pd.DataFrame(np.sort(dataset.values, axis=0), index=dataset.index, columns=dataset.columns)\n",
    "dataset = dataset['wwr']\n",
    "\n",
    "dataset = dataset[(np.abs(stats.zscore(dataset)) < 1)]\n",
    "dataset\n"
   ]
  },
  {
   "cell_type": "code",
   "execution_count": 16,
   "metadata": {},
   "outputs": [],
   "source": [
    "shape, loc, scale = stats.lognorm.fit(dataset, floc=0)"
   ]
  },
  {
   "cell_type": "code",
   "execution_count": 17,
   "metadata": {},
   "outputs": [
    {
     "data": {
      "text/plain": [
       "(0.2619884268610401, 0.0, 0.2354311649984298)"
      ]
     },
     "execution_count": 17,
     "metadata": {},
     "output_type": "execute_result"
    }
   ],
   "source": [
    "shape, loc, scale"
   ]
  },
  {
   "cell_type": "code",
   "execution_count": 18,
   "metadata": {},
   "outputs": [
    {
     "data": {
      "text/plain": [
       "(-1.4463367012518875, 0.2619884268610401)"
      ]
     },
     "execution_count": 18,
     "metadata": {},
     "output_type": "execute_result"
    }
   ],
   "source": [
    "np.log(scale), shape  # mu, sigma"
   ]
  }
 ],
 "metadata": {
  "interpreter": {
   "hash": "4a74ad5e0f1cd200cd26c2033a672363faf526b49ca194c184ea87f6d251d7c9"
  },
  "kernelspec": {
   "display_name": "Python 3.7.4 64-bit",
   "language": "python",
   "name": "python3"
  },
  "language_info": {
   "codemirror_mode": {
    "name": "ipython",
    "version": 3
   },
   "file_extension": ".py",
   "mimetype": "text/x-python",
   "name": "python",
   "nbconvert_exporter": "python",
   "pygments_lexer": "ipython3",
   "version": "3.7.4"
  },
  "orig_nbformat": 4
 },
 "nbformat": 4,
 "nbformat_minor": 2
}

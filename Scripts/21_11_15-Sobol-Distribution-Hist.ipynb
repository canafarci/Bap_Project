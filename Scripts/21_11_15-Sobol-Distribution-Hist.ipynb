{
 "cells": [
  {
   "cell_type": "code",
   "execution_count": 2,
   "metadata": {},
   "outputs": [],
   "source": [
    "from math import nan\n",
    "from operator import index, le\n",
    "from numpy.lib.function_base import average\n",
    "from uwg import Material, Element, Building, BEMDef, SchDef, UWG\n",
    "import SALib\n",
    "from SALib.sample import saltelli\n",
    "from SALib.analyze import sobol\n",
    "from SALib.test_functions import Ishigami\n",
    "import pvlib\n",
    "import numpy as np\n",
    "import pandas as pd\n",
    "import seaborn as sns\n",
    "import matplotlib.pyplot as plt"
   ]
  },
  {
   "cell_type": "code",
   "execution_count": 5,
   "metadata": {},
   "outputs": [],
   "source": [
    "problem = {\n",
    "    'num_vars': 9,\n",
    "    'names': ['bld_height', 'ver_to_hor', 'bld_density', 'urban_road_volumetric_heat_capacity', 'urban_area_length', 'road_albedo', #6\n",
    "              'sensible_anthropogenic_heat', 'urban_road_thermal_conductivity', 'urban_road_thickness'],  #2\n",
    "              \n",
    "    'bounds': [[2.5, 0.7],       #bld_height\n",
    "               [0.62, 0.5],       #ver_to_hor\n",
    "               [0.45, 0.105],    #bld_density\n",
    "               [1960371, 300000],     #urban_road_volumetric_heat_capacity\n",
    "               [1000, 100],       #urban_area_length\n",
    "               [0.1776, 0.024],      #road_albedo\n",
    "               \n",
    "               [7, 1.2],    #sensible_anthropogenic_heat\n",
    "               [1.955, 0.4],    #urban_road_thermal_conductivity\n",
    "               [0.3302, 0.0517]    #urban_road_thickness\n",
    "            \n",
    "               ],\n",
    "    \n",
    "    'dists':['lognorm', 'lognorm','norm', 'norm', 'norm', 'norm', 'norm', 'norm', 'norm'\n",
    "              ]\n",
    "}"
   ]
  },
  {
   "cell_type": "code",
   "execution_count": 6,
   "metadata": {},
   "outputs": [
    {
     "name": "stderr",
     "output_type": "stream",
     "text": [
      "C:\\Users\\Berke\\AppData\\Local\\Programs\\Python\\Python37\\lib\\site-packages\\SALib\\sample\\saltelli.py:94: UserWarning: \n",
      "        Convergence properties of the Sobol' sequence is only valid if\n",
      "        `N` (1400) is equal to `2^n`.\n",
      "        \n",
      "  warnings.warn(msg)\n"
     ]
    }
   ],
   "source": [
    "param_values = saltelli.sample(problem, 1400) #1400\n",
    "\n",
    "#region CSV index lists definition -------------------------\n",
    "max_length = len(param_values)\n",
    "\n",
    "bld_height_list = []\n",
    "ver_to_hor_list = []\n",
    "bld_density_list = []\n",
    "urban_road_volumetric_heat_capacity_list = []\n",
    "urban_area_length_list = []\n",
    "road_albedo_list = []\n",
    "sensible_anthropogenic_heat_list = []\n",
    "urban_road_thermal_conductivity_list = []\n",
    "urban_road_thickness_list = []\n"
   ]
  },
  {
   "cell_type": "code",
   "execution_count": null,
   "metadata": {},
   "outputs": [
    {
     "data": {
      "text/plain": [
       "(-0.7710103891113457, 0.46428432830715555)"
      ]
     },
     "execution_count": 33,
     "metadata": {},
     "output_type": "execute_result"
    }
   ],
   "source": [
    "def print_hist():\n",
    "    for params in param_values:\n",
    "            \n",
    "        bld_height_list.append(float(params[0]))\n",
    "        ver_to_hor_list.append(float(params[1]))\n",
    "        bld_density_list.append(float(params[2]))\n",
    "        urban_road_volumetric_heat_capacity_list.append(float(params[3]))\n",
    "        urban_area_length_list.append(float(params[4]))\n",
    "        road_albedo_list.append(float(params[5]))\n",
    "        sensible_anthropogenic_heat_list.append(float(params[6]))\n",
    "        urban_road_thermal_conductivity_list.append(float(params[7]))\n",
    "        urban_road_thickness_list.append(float(params[8]))\n",
    "            \n",
    "        \n",
    "            \n",
    "        "
   ]
  },
  {
   "cell_type": "code",
   "execution_count": null,
   "metadata": {},
   "outputs": [],
   "source": [
    "data = {    'bld_height': bld_height_list,\n",
    "            'ver_to_hor' : ver_to_hor_list,\n",
    "            'bld_density' : bld_density_list,\n",
    "            'urban_road_volumetric_heat_capacity' : urban_road_volumetric_heat_capacity_list,\n",
    "            'urban_area_length' : urban_area_length_list,\n",
    "            'road_albedo' : road_albedo_list,\n",
    "            'sensible_anthropogenic_heat': sensible_anthropogenic_heat_list,\n",
    "            'urban_road_thermal_conductivity': urban_road_thermal_conductivity_list,\n",
    "            'urban_road_thickness': urban_road_thickness_list,\n",
    "            \n",
    "}\n",
    "\n",
    "df = pd.DataFrame(data) \n",
    "\n",
    "\n"
   ]
  },
  {
   "cell_type": "code",
   "execution_count": null,
   "metadata": {},
   "outputs": [],
   "source": [
    "sns.set_style('white')\n",
    "sns.set_context(\"paper\", font_scale = 2)\n",
    "sns.displot(data=data, x=\"bld_height\", kind=\"hist\", bins = 193, aspect = 1.5)\n",
    "plt.show()"
   ]
  }
 ],
 "metadata": {
  "interpreter": {
   "hash": "4a74ad5e0f1cd200cd26c2033a672363faf526b49ca194c184ea87f6d251d7c9"
  },
  "kernelspec": {
   "display_name": "Python 3.7.4 64-bit",
   "language": "python",
   "name": "python3"
  },
  "language_info": {
   "codemirror_mode": {
    "name": "ipython",
    "version": 3
   },
   "file_extension": ".py",
   "mimetype": "text/x-python",
   "name": "python",
   "nbconvert_exporter": "python",
   "pygments_lexer": "ipython3",
   "version": "3.7.4"
  },
  "orig_nbformat": 4
 },
 "nbformat": 4,
 "nbformat_minor": 2
}

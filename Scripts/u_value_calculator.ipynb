{
 "cells": [
  {
   "cell_type": "code",
   "execution_count": null,
   "metadata": {},
   "outputs": [],
   "source": []
  },
  {
   "cell_type": "code",
   "execution_count": 6,
   "metadata": {},
   "outputs": [
    {
     "data": {
      "text/plain": [
       "1.2284716367577984"
      ]
     },
     "execution_count": 6,
     "metadata": {},
     "output_type": "execute_result"
    }
   ],
   "source": [
    "#R-Value = l/λ = 0.06/0.021 = 2.86 m2.K/W\n",
    "#U-Value (of building element) = 1 / (Rso + Rsi + R1 + R2 …)\n",
    "Rsi = 0.13\n",
    "Rse = 0.04    \n",
    "mineral_wool_lambda = 0.04\n",
    "concrete_slab_lambda = 2.5\n",
    "plaster_lambda =  0.51\n",
    "Rsi_roof = 0.13\n",
    "Rse_roof = 0.08\n",
    "\n",
    "\n",
    "#1.379\n",
    "u_value = 1 / ((0.2 / concrete_slab_lambda) + (0.019 / mineral_wool_lambda) + (0.025 / plaster_lambda) + Rsi_roof + Rse_roof)\n",
    "u_value"
   ]
  },
  {
   "cell_type": "code",
   "execution_count": 7,
   "metadata": {},
   "outputs": [
    {
     "data": {
      "text/plain": [
       "0.09396609740670461"
      ]
     },
     "execution_count": 7,
     "metadata": {},
     "output_type": "execute_result"
    }
   ],
   "source": [
    "u_value = 0.372 #0.15 - 1.39, 0.372\n",
    "\n",
    "\n",
    "#u_value = 1 / ((0.2 / concrete_slab_lambda) + (wool_thickness / mineral_wool_lambda) + (0.025 / plaster_lambda) + Rsi + Rse)\n",
    "#(0.2 / concrete_slab_lambda) + (wool_thickness / mineral_wool_lambda) + (0.025 / plaster_lambda) + Rsi + Rse) = (1 / u_value)\n",
    "#(wool_thickness) = ((1 / u_value) - (0.2 / concrete_slab_lambda) - (0.025 / plaster_lambda) - 0.17) * mineral_wool_lambda\n",
    "\n",
    "wool_thickness = ((1 / u_value) - (0.2 / concrete_slab_lambda) - (0.025 / plaster_lambda) - (Rsi_roof + Rse_roof)) * mineral_wool_lambda\n",
    "wool_thickness"
   ]
  },
  {
   "cell_type": "code",
   "execution_count": 8,
   "metadata": {},
   "outputs": [
    {
     "data": {
      "text/plain": [
       "1.5920765104861365"
      ]
     },
     "execution_count": 8,
     "metadata": {},
     "output_type": "execute_result"
    }
   ],
   "source": [
    "xps_lambda = 0.035\n",
    "brick_lambda = 0.33\n",
    "#+(51 / xps_lambda)\n",
    "u_value = 1 / ((0.135 / brick_lambda) + (0.025 / plaster_lambda)  + Rsi + Rse)\n",
    "u_value"
   ]
  },
  {
   "cell_type": "code",
   "execution_count": 9,
   "metadata": {},
   "outputs": [
    {
     "data": {
      "text/plain": [
       "0.04959077403409775"
      ]
     },
     "execution_count": 9,
     "metadata": {},
     "output_type": "execute_result"
    }
   ],
   "source": [
    "u_value = 0.489  #0.22- 1.524 - 0.489\n",
    "\n",
    "#u_value = 1 / ((0.2 / brick_lambda) +(0.0001 / xps_lambda) + Rsi + Rse)\n",
    "#u_value * ((1/ (5* brick_lambda)) +(0.0001 / xps_lambda) + 0.17) = 1\n",
    "#(1/ (5* brick_lambda)) +(xps_thickness / xps_lambda) + 0.17 = (1 / u_value)\n",
    "#(xps_thickness / xps_lambda)  = ((1 / u_value) - (1/ (5* brick_lambda)) - 0.17)\n",
    "xps_thickness   = ((1 / u_value) - (0.135 / brick_lambda) - (0.025 / plaster_lambda) - (Rsi+ Rse)) * xps_lambda\n",
    "xps_thickness"
   ]
  }
 ],
 "metadata": {
  "interpreter": {
   "hash": "4a74ad5e0f1cd200cd26c2033a672363faf526b49ca194c184ea87f6d251d7c9"
  },
  "kernelspec": {
   "display_name": "Python 3.7.4 64-bit",
   "language": "python",
   "name": "python3"
  },
  "language_info": {
   "codemirror_mode": {
    "name": "ipython",
    "version": 3
   },
   "file_extension": ".py",
   "mimetype": "text/x-python",
   "name": "python",
   "nbconvert_exporter": "python",
   "pygments_lexer": "ipython3",
   "version": "3.7.4"
  },
  "orig_nbformat": 4
 },
 "nbformat": 4,
 "nbformat_minor": 2
}

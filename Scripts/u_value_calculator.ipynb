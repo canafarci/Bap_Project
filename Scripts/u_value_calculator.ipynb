{
 "cells": [
  {
   "cell_type": "code",
   "execution_count": null,
   "metadata": {},
   "outputs": [],
   "source": []
  },
  {
   "cell_type": "code",
   "execution_count": null,
   "metadata": {},
   "outputs": [],
   "source": [
    "#R-Value = l/λ = 0.06/0.021 = 2.86 m2.K/W\n",
    "#U-Value (of building element) = 1 / (Rso + Rsi + R1 + R2 …)\n",
    "brick = 0.33\n",
    "xps = 0.035\n",
    "    \n",
    "mineral_wool = 0.04\n",
    "concrete_slab = 2.5\n",
    "\n",
    "#1.379\n",
    "u_value = 1 / ((0.2 / concrete_slab) + (0.019 / mineral_wool) + 0.13 + 0.04)\n",
    "u_value"
   ]
  }
 ],
 "metadata": {
  "language_info": {
   "name": "python"
  },
  "orig_nbformat": 4
 },
 "nbformat": 4,
 "nbformat_minor": 2
}
